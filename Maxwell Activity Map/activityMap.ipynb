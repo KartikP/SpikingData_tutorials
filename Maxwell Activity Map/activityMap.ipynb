{
 "cells": [
  {
   "cell_type": "code",
   "execution_count": null,
   "id": "initial_id",
   "metadata": {
    "collapsed": true
   },
   "outputs": [],
   "source": [
    "from h5py import File\n",
    "import numpy as np\n",
    "import matplotlib.pyplot as plt\n",
    "import matplotlib.gridspec as gridspec\n",
    "import pandas as pd\n",
    "import tqdm\n",
    "from collections import Counter\n",
    "\n",
    "#matplotlib.use(\"TkAgg\")"
   ]
  },
  {
   "cell_type": "code",
   "execution_count": null,
   "outputs": [],
   "source": [
    "filename = \"/Users/kartik/Dropbox/ips6/Data/test/data.raw.h5\""
   ],
   "metadata": {
    "collapsed": false
   },
   "id": "9db288ec211699cc"
  },
  {
   "cell_type": "code",
   "execution_count": null,
   "outputs": [],
   "source": [
    "def extract_spikes_from_h5(filename):\n",
    "    try:\n",
    "        f = File(filename, \"r\")\n",
    "        recordings = f[\"data_store\"][\"data0000\"]\n",
    "        spikes = np.array(recordings[\"spikes\"])\n",
    "\n",
    "        channel = spikes[\"channel\"]\n",
    "        time = (spikes[\"frameno\"] - (min(spikes[\"frameno\"]))) / 20000\n",
    "        duration = recordings[\"stop_time\"][0] - recordings[\"start_time\"][0]\n",
    "\n",
    "        mapping = pd.DataFrame(f['/data_store/data0000/settings/mapping'][:])\n",
    "\n",
    "        channel_times = {}\n",
    "        for c, t in zip(channel, time):\n",
    "            if c not in channel_times:\n",
    "                channel_times[c] = []\n",
    "            channel_times[c].append(t)\n",
    "        raster = [channel_times[channel] for channel in sorted(channel_times)]\n",
    "        return channel, time, raster, mapping\n",
    "\n",
    "    except:\n",
    "        print(\"Path does not contain an h5 file\")\n",
    "        return [], [], [], []\n"
   ],
   "metadata": {
    "collapsed": false
   },
   "id": "5ee57e40d96a1d39"
  },
  {
   "cell_type": "code",
   "execution_count": null,
   "outputs": [],
   "source": [
    "channel, time, raster, mapping = extract_spikes_from_h5(filename)\n",
    "spiketimes = pd.DataFrame([channel, time]).T\n",
    "spiketimes.columns = [\"channel\",\"time\"]"
   ],
   "metadata": {
    "collapsed": false
   },
   "id": "79a9f5f9aa52b225"
  },
  {
   "cell_type": "markdown",
   "source": [
    "# Single Burst Only"
   ],
   "metadata": {
    "collapsed": false
   },
   "id": "3d2dcd290357e846"
  },
  {
   "cell_type": "code",
   "execution_count": null,
   "outputs": [],
   "source": [
    "window = 0.002 #s\n",
    "duration = 1.8 #s\n",
    "start = 41.3\n",
    "\n",
    "for e, i in tqdm.tqdm(enumerate(np.arange(start, start+duration, window)), total=int(duration/window)):\n",
    "#for e,i in enumerate(np.arange(start, start+duration, window)):\n",
    "    st_window = spiketimes[(spiketimes[\"time\"] >= i) & (spiketimes[\"time\"] < i+window)].reset_index(drop=True)\n",
    "    st_window[\"channel\"] = st_window[\"channel\"].values.astype(int)\n",
    "    st_window_mapping = pd.merge(st_window, mapping, on=\"channel\", how=\"left\")\n",
    "\n",
    "    fr_mapping = st_window_mapping.groupby([\"channel\"]).agg(Count=('channel', 'size'),\n",
    "                                                            X=('x', 'first'), Y=('y', 'first')).reset_index()\n",
    "\n",
    "    all_spiketimes = spiketimes[(spiketimes[\"time\"] >= start) & (spiketimes[\"time\"] < i+window)]\n",
    "\n",
    "    # Create a scatter plot as a heatmap\n",
    "    fig = plt.figure(figsize=(12, 6))\n",
    "    gs = gridspec.GridSpec(2, 3, width_ratios=[2, 2, 6], height_ratios=[1, 3])\n",
    "\n",
    "    ax0 = fig.add_subplot(gs[0, :2])\n",
    "    ax0.hist(all_spiketimes[\"time\"], bins=np.arange(start, start+duration, window))\n",
    "    ax0.set_xlim(start, start+duration)\n",
    "    ax0.set_ylim(0, 16)\n",
    "\n",
    "    window_raster_tmp = all_spiketimes.groupby('channel')['time'].apply(list).reset_index()\n",
    "    window_raster = window_raster_tmp[\"time\"].tolist()\n",
    "    ax1 = fig.add_subplot(gs[1, :2])\n",
    "    ax1.scatter(all_spiketimes[\"time\"],all_spiketimes[\"channel\"], s=2)\n",
    "    ax1.set_xlim(start, start+duration)\n",
    "    ax1.set_ylim(0, 1000)\n",
    "\n",
    "    ax3 = fig.add_subplot(gs[1, 2])\n",
    "    scatter = ax3.scatter(fr_mapping['X'], fr_mapping['Y'], c=fr_mapping['Count'], s=50,\n",
    "                          cmap='plasma', alpha=0.6, edgecolors='w',vmin=0, vmax=3)\n",
    "    cbar = plt.colorbar(scatter, ax=ax3, label='Count of Channels')\n",
    "    plt.xlabel('X Coordinate')\n",
    "    plt.ylabel('Y Coordinate')\n",
    "    plt.xlim(min(mapping[\"x\"].values), max(mapping[\"x\"]))\n",
    "    plt.ylim(min(mapping[\"y\"].values), max(mapping[\"y\"].values))\n",
    "    plt.grid(True)  # Optional: adds a grid for better visualization of the scale\n",
    "    plt.savefig(\"gif/\"+str(e)+\".png\")\n",
    "    plt.close()"
   ],
   "metadata": {
    "collapsed": false
   },
   "id": "886fd944b024af7a"
  },
  {
   "cell_type": "markdown",
   "source": [],
   "metadata": {
    "collapsed": false
   },
   "id": "ded9047afa9ab9a0"
  },
  {
   "cell_type": "markdown",
   "source": [
    "# Full Recording"
   ],
   "metadata": {
    "collapsed": false
   },
   "id": "617eb02f2b3e6183"
  },
  {
   "cell_type": "code",
   "execution_count": null,
   "outputs": [],
   "source": [
    "window = 1 #s\n",
    "duration = 300 #s\n",
    "start = 0\n",
    "\n",
    "for e, i in tqdm.tqdm(enumerate(np.arange(start, start+duration, window)), total=int(duration/window)):\n",
    "#for e,i in enumerate(np.arange(start, start+duration, window)):\n",
    "    st_window = spiketimes[(spiketimes[\"time\"] >= i) & (spiketimes[\"time\"] < i+window)].reset_index(drop=True)\n",
    "    st_window[\"channel\"] = st_window[\"channel\"].values.astype(int)\n",
    "    st_window_mapping = pd.merge(st_window, mapping, on=\"channel\", how=\"left\")\n",
    "\n",
    "    fr_mapping = st_window_mapping.groupby([\"channel\"]).agg(Count=('channel', 'size'),\n",
    "                                                            X=('x', 'first'), Y=('y', 'first')).reset_index()\n",
    "\n",
    "    all_spiketimes = spiketimes[(spiketimes[\"time\"] >= start) & (spiketimes[\"time\"] < i+window)]\n",
    "\n",
    "    # Create a scatter plot as a heatmap\n",
    "    fig = plt.figure(figsize=(12, 6))\n",
    "    gs = gridspec.GridSpec(2, 3, width_ratios=[2, 2, 6], height_ratios=[1, 3])\n",
    "\n",
    "    ax0 = fig.add_subplot(gs[0, :2])\n",
    "    ax0.hist(all_spiketimes[\"time\"], bins=np.arange(start, start+duration, window))\n",
    "    ax0.set_xlim(start, start+duration)\n",
    "    ax0.set_ylim(0, 1500)\n",
    "\n",
    "    window_raster_tmp = all_spiketimes.groupby('channel')['time'].apply(list).reset_index()\n",
    "    window_raster = window_raster_tmp[\"time\"].tolist()\n",
    "    ax1 = fig.add_subplot(gs[1, :2])\n",
    "    ax1.scatter(all_spiketimes[\"time\"],all_spiketimes[\"channel\"], s=0.2, alpha=0.5)\n",
    "    ax1.set_xlim(start, start+duration)\n",
    "    ax1.set_ylim(0, 1000)\n",
    "\n",
    "    ax3 = fig.add_subplot(gs[1, 2])\n",
    "    scatter = ax3.scatter(fr_mapping['X'], fr_mapping['Y'], c=fr_mapping['Count'], s=fr_mapping['Count']*25,\n",
    "                          cmap='plasma', alpha=0.6, edgecolors='w',vmin=0, vmax=10)\n",
    "    cbar = plt.colorbar(scatter, ax=ax3, label='Count of Channels')\n",
    "    plt.xlabel('X Coordinate')\n",
    "    plt.ylabel('Y Coordinate')\n",
    "    plt.xlim(min(mapping[\"x\"].values), max(mapping[\"x\"]))\n",
    "    plt.ylim(min(mapping[\"y\"].values), max(mapping[\"y\"].values))\n",
    "    plt.grid(True)  # Optional: adds a grid for better visualization of the scale\n",
    "    plt.savefig(\"gif_full_recording/\"+str(e)+\".png\")\n",
    "    plt.close()"
   ],
   "metadata": {
    "collapsed": false
   },
   "id": "f19ef72616b4fec1"
  },
  {
   "cell_type": "markdown",
   "source": [
    "### After I converted the PNGs to a GIF. You can probably make a movie (ffempg) instead of this way."
   ],
   "metadata": {
    "collapsed": false
   },
   "id": "3c0d85741ee7af79"
  },
  {
   "cell_type": "markdown",
   "source": [
    "![Full Recording](/gif_full_recording/full_recording.gif \"Full Recording\")"
   ],
   "metadata": {
    "collapsed": false
   },
   "id": "36546ad32772a8c9"
  },
  {
   "cell_type": "markdown",
   "source": [
    "# Single burst only + consecutive burst counter"
   ],
   "metadata": {
    "collapsed": false
   },
   "id": "3879a1130eee9831"
  },
  {
   "cell_type": "code",
   "execution_count": null,
   "outputs": [],
   "source": [
    "# Initialize the channel frequency counter\n",
    "channel_frequency = Counter()\n",
    "\n",
    "# Example data loading steps (make sure to define or load 'spiketimes' and 'mapping')\n",
    "window = 0.002 # seconds\n",
    "duration = 1.8 # seconds\n",
    "start = 41.3\n",
    "\n",
    "for e, i in tqdm.tqdm(enumerate(np.arange(start, start + duration, window)), total=int(duration/window)):\n",
    "    st_window = spiketimes[(spiketimes[\"time\"] >= i) & (spiketimes[\"time\"] < i + window)].reset_index(drop=True)\n",
    "    st_window[\"channel\"] = st_window[\"channel\"].values.astype(int)\n",
    "    st_window_mapping = pd.merge(st_window, mapping, on=\"channel\", how=\"left\")\n",
    "\n",
    "    fr_mapping = st_window_mapping.groupby([\"channel\"]).agg(Count=('channel', 'size'),\n",
    "                                                            X=('x', 'first'), Y=('y', 'first')).reset_index()\n",
    "\n",
    "    all_spiketimes = spiketimes[(spiketimes[\"time\"] >= start) & (spiketimes[\"time\"] < i+window)]\n",
    "\n",
    "    # Update channel frequency\n",
    "    for channel in fr_mapping[\"channel\"]:\n",
    "        channel_frequency[channel] += 1\n",
    "\n",
    "    # Calculate point sizes based on frequency\n",
    "    fr_mapping['Size'] = fr_mapping['channel'].apply(lambda x: channel_frequency[x] * 10)  # Adjust size factor as needed\n",
    "\n",
    "    fig = plt.figure(figsize=(12, 6))\n",
    "    gs = gridspec.GridSpec(2, 3, width_ratios=[2, 2, 6], height_ratios=[1, 3])\n",
    "\n",
    "    ax0 = fig.add_subplot(gs[0, :2])\n",
    "    ax0.hist(all_spiketimes[\"time\"], bins=np.arange(start, start+duration, window))\n",
    "    ax0.set_xlim(start, start+duration)\n",
    "    ax0.set_ylim(0, 16)\n",
    "\n",
    "    window_raster_tmp = all_spiketimes.groupby('channel')['time'].apply(list).reset_index()\n",
    "    window_raster = window_raster_tmp[\"time\"].tolist()\n",
    "    ax1 = fig.add_subplot(gs[1, :2])\n",
    "    ax1.scatter(all_spiketimes[\"time\"],all_spiketimes[\"channel\"], s=2)\n",
    "    ax1.set_xlim(start, start+duration)\n",
    "    ax1.set_ylim(0, 1000)\n",
    "\n",
    "    ax3 = fig.add_subplot(gs[1, 2])\n",
    "    scatter = ax3.scatter(fr_mapping['X'], fr_mapping['Y'], c=fr_mapping['Count'], s=fr_mapping['Size'],\n",
    "                          cmap='plasma', alpha=0.6, edgecolors='w', vmin=0, vmax=3)\n",
    "    cbar = plt.colorbar(scatter, ax=ax3, label='Count of Channels')\n",
    "    ax3.set_xlabel('X Coordinate')\n",
    "    ax3.set_ylabel('Y Coordinate')\n",
    "    ax3.set_xlim(min(mapping[\"x\"])-25, max(mapping[\"x\"])+25)\n",
    "    ax3.set_ylim(min(mapping[\"y\"])-25, max(mapping[\"y\"])+25)\n",
    "    plt.grid(True)\n",
    "    plt.savefig(\"gif/\" + str(e) + \".png\")\n",
    "    plt.close()"
   ],
   "metadata": {
    "collapsed": false
   },
   "id": "9865af19f0e41148"
  },
  {
   "cell_type": "markdown",
   "source": [
    "![High res network burst frequency](/gif/high_res_frequency.gif)"
   ],
   "metadata": {
    "collapsed": false
   },
   "id": "47ce7c29f9013e3"
  },
  {
   "cell_type": "markdown",
   "source": [],
   "metadata": {
    "collapsed": false
   },
   "id": "d82f762fa74679a0"
  }
 ],
 "metadata": {
  "kernelspec": {
   "display_name": "Python 3",
   "language": "python",
   "name": "python3"
  },
  "language_info": {
   "codemirror_mode": {
    "name": "ipython",
    "version": 2
   },
   "file_extension": ".py",
   "mimetype": "text/x-python",
   "name": "python",
   "nbconvert_exporter": "python",
   "pygments_lexer": "ipython2",
   "version": "2.7.6"
  }
 },
 "nbformat": 4,
 "nbformat_minor": 5
}
